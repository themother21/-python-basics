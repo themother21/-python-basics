{
  "nbformat": 4,
  "nbformat_minor": 0,
  "metadata": {
    "colab": {
      "provenance": [],
      "authorship_tag": "ABX9TyMdn1mzhNVyhckBHish8SlY",
      "include_colab_link": true
    },
    "kernelspec": {
      "name": "python3",
      "display_name": "Python 3"
    },
    "language_info": {
      "name": "python"
    }
  },
  "cells": [
    {
      "cell_type": "markdown",
      "metadata": {
        "id": "view-in-github",
        "colab_type": "text"
      },
      "source": [
        "<a href=\"https://colab.research.google.com/github/themother21/-python-basics/blob/main/opps_assignment_.ipynb\" target=\"_parent\"><img src=\"https://colab.research.google.com/assets/colab-badge.svg\" alt=\"Open In Colab\"/></a>"
      ]
    },
    {
      "cell_type": "code",
      "execution_count": null,
      "metadata": {
        "id": "3kc_ImXJsrOr"
      },
      "outputs": [],
      "source": [
        "# 1   What are the five key concepts of Object-Oriented Programming (OOP)?\n",
        "\n",
        "# The five key concepts of OOP are:\n",
        "\n",
        "# 1. Encapsulation: Bundling data (attributes) and methods (functions) that operate on that data within a single unit called a class.\n",
        "#    This hides the internal implementation details and protects the data from accidental modification.\n",
        "\n",
        "# 2. Abstraction: Providing a simplified view of complex systems by hiding unnecessary details.\n",
        "#    This allows users to interact with objects without needing to know how they work internally.\n",
        "\n",
        "# 3. Inheritance: Creating new classes (child classes) based on existing classes (parent classes).\n",
        "#    This allows for code reuse and promotes a hierarchical structure in the code.\n",
        "\n",
        "# 4. Polymorphism:  The ability of objects of different classes to respond to the same method call in different ways.\n",
        "#    This allows for flexibility and adaptability in the code.\n",
        "\n",
        "# 5.  Abstraction:  Providing a simplified view of complex systems by hiding unnecessary details.\n",
        "#    This allows users to interact with objects without needing to know how they work internally.\n"
      ]
    },
    {
      "cell_type": "code",
      "source": [
        "#2 Write a Python class for a `Car` with attributes for `make`, `model`, and `year`. Include a method to display\n",
        "#the car's information.\n",
        "\n",
        "#Here’s a Python class for a Car with attributes for make, model, and year, and a method to display the car’s information:\n",
        "\n",
        "class Car:\n",
        "    def __init__(self, make, model, year):\n",
        "        self.make = make\n",
        "        self.model = model\n",
        "        self.year = year\n",
        "\n",
        "    def display_info(self):\n",
        "        print(f\"Car Info: {self.year} {self.make} {self.model}\")\n",
        "\n",
        "# Example usage:\n",
        "my_car = Car(\"Toyota\", \"Camry\", 2020)\n",
        "my_car.display_info()\n",
        "\n",
        "\n",
        "#In this class:\n",
        "\n",
        "#The __init__ method initializes the attributes make, model, and year.\n",
        "#The display_info method prints the car's details in a readable format.\n",
        "\n",
        "\n",
        "\n",
        "\n",
        "\n",
        "\n"
      ],
      "metadata": {
        "id": "QW5zxfmntXon",
        "colab": {
          "base_uri": "https://localhost:8080/"
        },
        "outputId": "f15870fa-1984-4f17-9891-853ba1cb5e42"
      },
      "execution_count": null,
      "outputs": [
        {
          "output_type": "stream",
          "name": "stdout",
          "text": [
            "Car Info: 2020 Toyota Camry\n"
          ]
        }
      ]
    },
    {
      "cell_type": "code",
      "source": [
        "#3  Explain the difference between instance methods and class methods. Provide an example of each.\n",
        "\n",
        "\n",
        "   #Instance Methods:\n",
        "#Definition: Instance methods are the most common type of method in a class and are used to operate on instances of the class.\n",
        "#Access: These methods have access to the instance via the self parameter.\n",
        "#Use Case: They are used when you want to perform actions that depend on the data stored in a specific instance of the class.\n",
        "\n",
        "class Car:\n",
        "    def __init__(self, make, model, year):\n",
        "        self.make = make\n",
        "        self.model = model\n",
        "        self.year = year\n",
        "\n",
        "    # Instance method\n",
        "    def display_info(self):\n",
        "        print(f\"Car Info: {self.year} {self.make} {self.model}\")\n",
        "\n",
        "    # Creating an instance\n",
        "my_car = Car(\"Honda\", \"Civic\", 2022)\n",
        "my_car.display_info()  # Outputs: Car Info: 2022 Honda Civic\n",
        "\n",
        "\n",
        "   # Class Methods:\n",
        "#Definition: Class methods are methods that are bound to the class and not the instance of the class.\n",
        "#They take cls (representing the class) as the first parameter instead of self.\n",
        "#Access: They can modify class-level variables (shared across all instances of the class)\n",
        "#but don’t have access to instance-specific data unless explicitly passed.\n",
        "#Use Case: Class methods are useful when you want to perform actions that apply to the class itself rather than to individual instances.\n",
        "#To define a class method, you use the @classmethod decorator.\n",
        "class Car:\n",
        "    total_cars = 0  # Class attribute\n",
        "\n",
        "    def __init__(self, make, model, year):\n",
        "        self.make = make\n",
        "        self.model = model\n",
        "        self.year = year\n",
        "        Car.total_cars += 1  # Modify class attribute\n",
        "\n",
        "    # Class method\n",
        "    @classmethod\n",
        "    def display_total_cars(cls):\n",
        "        print(f\"Total cars: {cls.total_cars}\")\n",
        "\n",
        "# Creating instances\n",
        "car1 = Car(\"Toyota\", \"Corolla\", 2020)\n",
        "car2 = Car(\"Honda\", \"Accord\", 2021)\n",
        "\n",
        "# Calling class method\n",
        "Car.display_total_cars()  # Outputs: Total cars: 2\n",
        "\n",
        "#Key Differences:\n",
        "#Instance Methods: Operate on individual instances of a class and use self to access instance attributes.\n",
        "#Class Methods: Operate on the class itself, modifying class-level attributes, and use cls to access class attributes.\n",
        "\n",
        "\n",
        "\n",
        "\n"
      ],
      "metadata": {
        "colab": {
          "base_uri": "https://localhost:8080/"
        },
        "id": "eYlL8IQkwYI8",
        "outputId": "2cb47ef8-b7a7-4540-fa24-0fc466d43ab0"
      },
      "execution_count": null,
      "outputs": [
        {
          "output_type": "stream",
          "name": "stdout",
          "text": [
            "Car Info: 2022 Honda Civic\n",
            "Total cars: 2\n"
          ]
        }
      ]
    },
    {
      "cell_type": "code",
      "source": [
        "#4  How does Python implement method overloading? Give an example.\n",
        "\n",
        "\n",
        "#Python functions and methods are dynamically typed, meaning they can handle different types of arguments,\n",
        "#but if you define two methods with the same name in a class, the latter one will overwrite the former.\n",
        "\n",
        "#However, you can achieve similar behavior by using:\n",
        "\n",
        "#Default arguments\n",
        "#Variable-length arguments (*args and **kwargs)\n",
        "#Type checking inside the method\n",
        "#Example Using Default Arguments and *args:\n",
        "class Calculator:\n",
        "    # Method to mimic overloading using default arguments\n",
        "    def add(self, a, b=0, c=0):\n",
        "        return a + b + c\n",
        "\n",
        "    # Method to mimic overloading using *args\n",
        "    def multiply(self, *args):\n",
        "        result = 1\n",
        "        for num in args:\n",
        "            result *= num\n",
        "        return result\n",
        "\n",
        "# Example usage:\n",
        "calc = Calculator()\n",
        "\n",
        "# Add method with 1, 2, or 3 arguments\n",
        "print(calc.add(5))        # Output: 5\n",
        "print(calc.add(5, 10))    # Output: 15\n",
        "print(calc.add(5, 10, 15))  # Output: 30\n",
        "\n",
        "# Multiply method with variable number of arguments\n",
        "print(calc.multiply(2, 3))          # Output: 6\n",
        "print(calc.multiply(2, 3, 4))       # Output: 24\n",
        "print(calc.multiply(2, 3, 4, 5))    # Output: 120\n",
        "\n",
        "\n",
        "#Default Arguments:\n",
        "#The add method uses default values for b and c. This allows it to accept 1, 2, or 3 arguments, effectively mimicking method overloading.\n",
        "#Variable-Length Arguments:\n",
        "#The multiply method uses *args, which allows it to accept a variable number of arguments. This lets the method handle any number of parameters.\n",
        "class Printer:\n",
        "    def print_value(self, value):\n",
        "        if isinstance(value, int):\n",
        "            print(f\"Integer: {value}\")\n",
        "        elif isinstance(value, str):\n",
        "            print(f\"String: {value}\")\n",
        "        else:\n",
        "            print(\"Unsupported type\")\n",
        "\n",
        "# Example usage:\n",
        "p = Printer()\n",
        "p.print_value(100)       # Output: Integer: 100\n",
        "p.print_value(\"hello\")   # Output: String: hello\n",
        "p.print_value([1, 2, 3]) # Output: Unsupported type\n",
        "\n",
        "\n",
        "\n",
        "\n",
        "\n",
        "\n",
        "\n"
      ],
      "metadata": {
        "colab": {
          "base_uri": "https://localhost:8080/"
        },
        "id": "8MHmw3CkysW3",
        "outputId": "7e69aaad-83b6-4201-fd27-066c45013356"
      },
      "execution_count": null,
      "outputs": [
        {
          "output_type": "stream",
          "name": "stdout",
          "text": [
            "5\n",
            "15\n",
            "30\n",
            "6\n",
            "24\n",
            "120\n",
            "Integer: 100\n",
            "String: hello\n",
            "Unsupported type\n"
          ]
        }
      ]
    },
    {
      "cell_type": "code",
      "source": [
        " #5 What are the three types of access modifiers in Python? How are they denoted?\n",
        "\n",
        "# In Python, there are three types of access modifiers:\n",
        "\n",
        "# 1. Public:\n",
        "#    - Members declared as public are accessible from anywhere in the program.\n",
        "#    - By default, all members in a Python class are public.\n",
        "#    - No special keyword is needed to denote public members.\n",
        "\n",
        "class MyClass:\n",
        "    def __init__(self, name):\n",
        "        self.name = name  # Public attribute\n",
        "\n",
        "    def greet(self):  # Public method\n",
        "        print(f\"Hello, {self.name}!\")\n",
        "\n",
        "# 2. Protected:\n",
        "#    - Members declared as protected are accessible within the class and its subclasses.\n",
        "#    - They are denoted using a single underscore (_) before the member name.\n",
        "#    - While this is a convention, it doesn't enforce strict access control.\n",
        "\n",
        "class MyClass:\n",
        "    def __init__(self, name):\n",
        "        self._name = name  # Protected attribute\n",
        "\n",
        "    def _greet(self):  # Protected method\n",
        "        print(f\"Hello, {self._name}!\")\n",
        "\n",
        "# 3. Private:\n",
        "#    - Members declared as private are intended to be accessed only within the class itself.\n",
        "#    - They are denoted using double underscores (__) before the member name.\n",
        "#    - This is also a convention and doesn't provide true encapsulation.\n",
        "\n",
        "class MyClass:\n",
        "    def __init__(self, name):\n",
        "        self.__name = name  # Private attribute\n",
        "\n",
        "    def __greet(self):  # Private method\n",
        "        print(f\"Hello, {self.__name}!\")\n",
        "\n",
        "\n",
        "\n",
        "\n",
        "\n",
        "\n",
        "\n"
      ],
      "metadata": {
        "id": "fSSugYse0JKP"
      },
      "execution_count": null,
      "outputs": []
    },
    {
      "cell_type": "code",
      "source": [
        "#6  Describe the five types of inheritance in Python. Provide a simple example of multiple inheritance.\n",
        "\n",
        "# 1. Single Inheritance: A subclass inherits from a single parent class.\n",
        "# This is the most basic form of inheritance.\n",
        "\n",
        "class Animal:\n",
        "    def __init__(self, name):\n",
        "        self.name = name\n",
        "\n",
        "    def speak(self):\n",
        "        print(\"Generic animal sound\")\n",
        "\n",
        "class Dog(Animal):\n",
        "    def speak(self):\n",
        "        print(\"Woof!\")\n",
        "\n",
        "# 2. Multiple Inheritance: A subclass inherits from multiple parent classes.\n",
        "# This allows a class to combine features from different sources.\n",
        "\n",
        "class Flyer:\n",
        "    def fly(self):\n",
        "        print(\"I can fly!\")\n",
        "\n",
        "class Swimmer:\n",
        "    def swim(self):\n",
        "        print(\"I can swim!\")\n",
        "\n",
        "class Duck(Flyer, Swimmer):\n",
        "    pass\n",
        "\n",
        "# 3. Multilevel Inheritance: A subclass inherits from another subclass.\n",
        "# This creates a hierarchy of classes.\n",
        "\n",
        "class Vehicle:\n",
        "    def move(self):\n",
        "        print(\"Vehicle is moving\")\n",
        "\n",
        "class Car(Vehicle):\n",
        "    def drive(self):\n",
        "        print(\"Car is driving\")\n",
        "\n",
        "class SportsCar(Car):\n",
        "    def speed(self):\n",
        "        print(\"Sports car is speeding\")\n",
        "\n",
        "# 4. Hierarchical Inheritance: Multiple subclasses inherit from a single parent class.\n",
        "# This allows for specialization of a base class.\n",
        "\n",
        "class Shape:\n",
        "    def __init__(self, sides):\n",
        "        self.sides = sides\n",
        "\n",
        "class Triangle(Shape):\n",
        "    def __init__(self):\n",
        "        super().__init__(3)\n",
        "\n",
        "class Square(Shape):\n",
        "    def __init__(self):\n",
        "        super().__init__(4)\n",
        "\n",
        "# 5. Hybrid Inheritance: A combination of different inheritance types.\n",
        "# This is a more complex form of inheritance.\n",
        "\n",
        "# Example of Multiple Inheritance:\n",
        "duck = Duck()\n",
        "duck.fly()  # Output: I can fly!\n",
        "duck.swim()  # Output: I can swim!\n",
        "\n",
        "\n"
      ],
      "metadata": {
        "colab": {
          "base_uri": "https://localhost:8080/"
        },
        "id": "rtThAqS_2gNf",
        "outputId": "c7d8a5fe-cb1c-496f-c2b9-c80ad7a3b306"
      },
      "execution_count": null,
      "outputs": [
        {
          "output_type": "stream",
          "name": "stdout",
          "text": [
            "I can fly!\n",
            "I can swim!\n"
          ]
        }
      ]
    },
    {
      "cell_type": "code",
      "source": [
        "#7 What is the Method Resolution Order (MRO) in Python? How can you retrieve it programmatically?\n",
        "\n",
        "# Method Resolution Order (MRO) in Python determines the order in which methods are searched for in a class hierarchy\n",
        "# when a method is called on an object. It follows a specific algorithm to resolve ambiguity when multiple base classes\n",
        "# have the same method name.\n",
        "\n",
        "# To retrieve the MRO programmatically, you can use the `__mro__` attribute of a class:\n",
        "\n",
        "class A:\n",
        "    pass\n",
        "\n",
        "class B:\n",
        "    pass\n",
        "\n",
        "class C(A, B):\n",
        "    pass\n",
        "\n",
        "print(C.__mro__)  # Output: (<class '__main__.C'>, <class '__main__.A'>, <class '__main__.B'>, <class 'object'>)\n"
      ],
      "metadata": {
        "colab": {
          "base_uri": "https://localhost:8080/"
        },
        "id": "T14UouJF2mJX",
        "outputId": "22f2fcc7-8b21-4a7d-966d-97b303046633"
      },
      "execution_count": null,
      "outputs": [
        {
          "output_type": "stream",
          "name": "stdout",
          "text": [
            "(<class '__main__.C'>, <class '__main__.A'>, <class '__main__.B'>, <class 'object'>)\n"
          ]
        }
      ]
    },
    {
      "cell_type": "code",
      "source": [
        " #8  Create an abstract base class `Shape` with an abstract method `area()`. Then create two subclasses\n",
        "# `Circle` and `Rectangle` that implement the `area()` method.\n",
        "\n",
        "from abc import ABC, abstractmethod\n",
        "\n",
        "class Shape(ABC):\n",
        "    @abstractmethod\n",
        "    def area(self):\n",
        "        pass\n",
        "\n",
        "class Circle(Shape):\n",
        "    def __init__(self, radius):\n",
        "        self.radius = radius\n",
        "\n",
        "    def area(self):\n",
        "        return 3.14159 * self.radius * self.radius\n",
        "\n",
        "class Rectangle(Shape):\n",
        "    def __init__(self, length, width):\n",
        "        self.length = length\n",
        "        self.width = width\n",
        "\n",
        "    def area(self):\n",
        "        return self.length * self.width\n",
        "# Example usage\n",
        "circle = Circle(5)\n",
        "print(f\"Circle area: {circle.area()}\")  # Outputs: Circle area: 78.53975\n",
        "\n",
        "rectangle = Rectangle(4, 6)\n",
        "print(f\"Rectangle area: {rectangle.area()}\")  # Outputs: Rectangle area: 24\n"
      ],
      "metadata": {
        "colab": {
          "base_uri": "https://localhost:8080/"
        },
        "id": "4JlPdJUE3bvx",
        "outputId": "a45b6b8d-3df4-462a-c321-f93f30110903"
      },
      "execution_count": null,
      "outputs": [
        {
          "output_type": "stream",
          "name": "stdout",
          "text": [
            "Circle area: 78.53975\n",
            "Rectangle area: 24\n"
          ]
        }
      ]
    },
    {
      "cell_type": "code",
      "source": [
        "#9 Demonstrate polymorphism by creating a function that can work with different shape objects to calculate and print their area.\n",
        "\n",
        "\n",
        "#Polymorphism allows the same function to work with different types of objects.\n",
        "#To demonstrate this, we can create a base class Shape and derive classes for different shapes like Circle, Rectangle, and Triangle.\n",
        "#Each derived class will have its own implementation of an area method.\n",
        "import math\n",
        "\n",
        "# Base class\n",
        "class Shape:\n",
        "    def area(self):\n",
        "        pass\n",
        "\n",
        "# Derived class for Circle\n",
        "class Circle(Shape):\n",
        "    def __init__(self, radius):\n",
        "        self.radius = radius\n",
        "\n",
        "    def area(self):\n",
        "        return math.pi * (self.radius ** 2)\n",
        "\n",
        "# Derived class for Rectangle\n",
        "class Rectangle(Shape):\n",
        "    def __init__(self, width, height):\n",
        "        self.width = width\n",
        "        self.height = height\n",
        "\n",
        "    def area(self):\n",
        "        return self.width * self.height\n",
        "\n",
        "# Derived class for Triangle\n",
        "class Triangle(Shape):\n",
        "    def __init__(self, base, height):\n",
        "        self.base = base\n",
        "        self.height = height\n",
        "\n",
        "    def area(self):\n",
        "        return 0.5 * self.base * self.height\n",
        "\n",
        "# Function to calculate and print the area of any shape\n",
        "def print_area(shape):\n",
        "    print(f\"The area of the {shape.__class__.__name__} is: {shape.area()}\")\n",
        "\n",
        "# Creating objects of different shapes\n",
        "circle = Circle(5)\n",
        "rectangle = Rectangle(4, 6)\n",
        "triangle = Triangle(3, 7)\n",
        "\n",
        "# Using the same function to print areas of different shapes\n",
        "print_area(circle)       # Output: Area of the circle\n",
        "print_area(rectangle)    # Output: Area of the rectangle\n",
        "print_area(triangle)     # Output: Area of the triangle\n",
        "\n",
        "\n",
        "#Explanation:\n",
        "#The Shape class is a base class with an abstract method area().\n",
        "#The Circle, Rectangle, and Triangle classes inherit from Shape and provide their own implementation of the area method.\n",
        "#The print_area function accepts any object of type Shape and calls its area method.\n",
        "#This function works polymorphically with all derived shapes.\n",
        "\n",
        "\n"
      ],
      "metadata": {
        "id": "DHabEmas3e_P",
        "colab": {
          "base_uri": "https://localhost:8080/"
        },
        "outputId": "6db49889-e828-447a-cfb3-3ef4a8a723f5"
      },
      "execution_count": null,
      "outputs": [
        {
          "output_type": "stream",
          "name": "stdout",
          "text": [
            "The area of the Circle is: 78.53981633974483\n",
            "The area of the Rectangle is: 24\n",
            "The area of the Triangle is: 10.5\n"
          ]
        }
      ]
    },
    {
      "cell_type": "code",
      "source": [
        "#10 Implement encapsulation in a `BankAccount` class with private attributes for `balance` and\n",
        "#`account_number`. Include methods for deposit, withdrawal, and balance inquiry\n",
        "\n",
        "#To implement encapsulation in a BankAccount class,\n",
        "#we can define private attributes for balance and account_number using the convention of prefixing them with a double underscore (__).\n",
        "#We’ll then create public methods to access and modify these attributes safely, adhering to the principles of encapsulation.\n",
        "class BankAccount:\n",
        "    def __init__(self, account_number, initial_balance=0):\n",
        "        # Private attributes\n",
        "        self.__account_number = account_number\n",
        "        self.__balance = initial_balance\n",
        "\n",
        "    # Public method to deposit money\n",
        "    def deposit(self, amount):\n",
        "        if amount > 0:\n",
        "            self.__balance += amount\n",
        "            print(f\"Deposited {amount}. New balance is {self.__balance}\")\n",
        "        else:\n",
        "            print(\"Deposit amount must be positive!\")\n",
        "\n",
        "    # Public method to withdraw money\n",
        "    def withdraw(self, amount):\n",
        "        if 0 < amount <= self.__balance:\n",
        "            self.__balance -= amount\n",
        "            print(f\"Withdrew {amount}. New balance is {self.__balance}\")\n",
        "        elif amount > self.__balance:\n",
        "            print(\"Insufficient funds!\")\n",
        "        else:\n",
        "            print(\"Withdrawal amount must be positive!\")\n",
        "\n",
        "    # Public method to check balance\n",
        "    def get_balance(self):\n",
        "        return self.__balance\n",
        "\n",
        "    # Public method to get the account number\n",
        "    def get_account_number(self):\n",
        "        return self.__account_number\n",
        "\n",
        "# Example usage\n",
        "account = BankAccount(\"12345678\", 1000)\n",
        "\n",
        "# Accessing methods\n",
        "account.deposit(500)       # Deposits 500\n",
        "account.withdraw(300)      # Withdraws 300\n",
        "account.withdraw(1500)     # Attempts to withdraw more than available balance\n",
        "print(f\"Account Balance: {account.get_balance()}\")   # Prints the balance\n",
        "print(f\"Account Number: {account.get_account_number()}\")  # Prints the account number\n",
        "\n",
        "\n",
        "#Explanation:\n",
        "Encapsulation: The __balance and __account_number attributes are made private, meaning they cannot be accessed directly from outside the class.\n",
        "#Public Methods:\n",
        "#deposit(): Adds a positive amount to the balance.\n",
        "#withdraw(): Allows withdrawal if there are sufficient funds.\n",
        "#get_balance(): Returns the current balance.\n",
        "#get_account_number(): Returns the account number.\n",
        "#Safe Access: Private attributes ensure that they can only be modified or accessed through the defined public methods,\n",
        "#thus protecting the data integrity of the class.\n",
        "\n",
        "\n",
        "\n"
      ],
      "metadata": {
        "colab": {
          "base_uri": "https://localhost:8080/"
        },
        "id": "JidSJ56P387v",
        "outputId": "5708aa97-b706-402f-b135-d601157b663f"
      },
      "execution_count": null,
      "outputs": [
        {
          "output_type": "stream",
          "name": "stdout",
          "text": [
            "Deposited 500. New balance is 1500\n",
            "Withdrew 300. New balance is 1200\n",
            "Insufficient funds!\n",
            "Account Balance: 1200\n",
            "Account Number: 12345678\n"
          ]
        }
      ]
    },
    {
      "cell_type": "code",
      "source": [
        "#11  Write a class that overrides the `__str__` and `__add__` magic methods. What will these methods allow you to do ?\n",
        "\n",
        "\n",
        "#When you override the __str__ and __add__ magic methods in a class, you can customize how objects of that class are printed (using __str__)\n",
        "#and how they behave when the + operator is used (using __add__).\n",
        "class Point:\n",
        "    def __init__(self, x, y):\n",
        "        self.x = x\n",
        "        self.y = y\n",
        "\n",
        "    # Overriding __str__ to customize object representation when printed\n",
        "    def __str__(self):\n",
        "        return f\"Point({self.x}, {self.y})\"\n",
        "\n",
        "    # Overriding __add__ to customize behavior when adding two Point objects\n",
        "    def __add__(self, other):\n",
        "        if isinstance(other, Point):\n",
        "            return Point(self.x + other.x, self.y + other.y)\n",
        "        return NotImplemented\n",
        "\n",
        "# Example usage\n",
        "point1 = Point(2, 3)\n",
        "point2 = Point(4, 5)\n",
        "\n",
        "# Printing the point objects using the overridden __str__ method\n",
        "print(point1)   # Output: Point(2, 3)\n",
        "print(point2)   # Output: Point(4, 5)\n",
        "\n",
        "# Adding two Point objects using the overridden __add__ method\n",
        "result = point1 + point2\n",
        "print(result)   # Output: Point(6, 8)\n",
        "\n",
        "\n",
        "#Explanation:\n",
        "#Overriding __str__:\n",
        "#The __str__ method defines how an object is represented as a string, particularly when printed or when converted to a string with str().\n",
        "#Without this, printing the object would show the default format like <Point object at 0x...>.\n",
        "#n this case, it makes the Point object more readable by formatting it as Point(x, y).\n",
        "#Overriding __add__:\n",
        "#The __add__ method allows you to define how two objects of the same class behave when added using the + operator.\n",
        "#In this case, we add two Point objects by summing their respective x and y values and returning a new Point object with the result.\n",
        "\n",
        "#What do these methods allow you to do?\n",
        "#__str__: This allows you to control how objects are represented when printed, making the output more user-friendly and meaningful.\n",
        "\n",
        "#__add__: This allows you to define custom behavior for the + operator between two objects.\n",
        "#Instead of getting a default error or an unrelated behavior, you can decide how the + operator should work for your class\n",
        " #(e.g., adding two Point objects, combining custom data types, etc.).\n",
        "\n",
        "\n",
        "\n",
        "\n"
      ],
      "metadata": {
        "colab": {
          "base_uri": "https://localhost:8080/"
        },
        "id": "MkL-XRVD5Ef3",
        "outputId": "345a356f-5190-4bd7-bbfc-52f393f3ad89"
      },
      "execution_count": null,
      "outputs": [
        {
          "output_type": "stream",
          "name": "stdout",
          "text": [
            "Point(2, 3)\n",
            "Point(4, 5)\n",
            "Point(6, 8)\n"
          ]
        }
      ]
    },
    {
      "cell_type": "code",
      "source": [
        "#12  Create a decorator that measures and prints the execution time of a function.\n",
        "\n",
        "#To create a decorator that measures and prints the execution time of a function, we can use the time module,\n",
        "#which provides functions to measure time intervals.\n",
        "#The decorator will wrap the target function, record the start and end times, and print the duration.\n",
        "\n",
        "import time\n",
        "\n",
        "# Decorator to measure execution time\n",
        "def execution_time_decorator(func):\n",
        "    def wrapper(*args, **kwargs):\n",
        "        start_time = time.time()  # Record start time\n",
        "        result = func(*args, **kwargs)  # Call the original function\n",
        "        end_time = time.time()  # Record end time\n",
        "        execution_time = end_time - start_time  # Calculate execution time\n",
        "        print(f\"Execution time of {func.__name__}: {execution_time:.4f} seconds\")\n",
        "        return result\n",
        "    return wrapper\n",
        "\n",
        "# Example usage\n",
        "@execution_time_decorator\n",
        "def slow_function():\n",
        "    time.sleep(2)  # Simulate a slow function by sleeping for 2 seconds\n",
        "    print(\"Function complete!\")\n",
        "\n",
        "@execution_time_decorator\n",
        "def fast_function():\n",
        "    print(\"This function is fast!\")\n",
        "\n",
        "# Running the functions\n",
        "slow_function()  # This will print the execution time\n",
        "fast_function()  # This will also print the execution time\n"
      ],
      "metadata": {
        "colab": {
          "base_uri": "https://localhost:8080/"
        },
        "id": "O4vHUXGY60ac",
        "outputId": "4eb3502c-9d6e-40e0-d8c8-ea63c2cd3890"
      },
      "execution_count": null,
      "outputs": [
        {
          "output_type": "stream",
          "name": "stdout",
          "text": [
            "Function complete!\n",
            "Execution time of slow_function: 2.0034 seconds\n",
            "This function is fast!\n",
            "Execution time of fast_function: 0.0001 seconds\n"
          ]
        }
      ]
    },
    {
      "cell_type": "code",
      "source": [
        " #13  Explain the concept of the Diamond Problem in multiple inheritance. How does Python resolve it?\n",
        "\n",
        "# The Diamond Problem:\n",
        "# In multiple inheritance, when a class inherits from two classes that have a common ancestor,\n",
        "# it can lead to ambiguity in method resolution. This is known as the Diamond Problem.\n",
        "\n",
        "# Example:\n",
        "class A:\n",
        "    def some_method(self):\n",
        "        print(\"Method from class A\")\n",
        "\n",
        "class B(A):\n",
        "    def some_method(self):\n",
        "        print(\"Method from class B\")\n",
        "\n",
        "class C(A):\n",
        "    def some_method(self):\n",
        "        print(\"Method from class C\")\n",
        "\n",
        "class D(B, C):\n",
        "    pass\n",
        "\n",
        "d = D()\n",
        "d.some_method()\n",
        "\n",
        "\n",
        "# If we call the method() on an instance of D, which method will be called?\n",
        "# This is where the Diamond Problem arises.\n",
        "\n",
        "# Python's Resolution:\n",
        "# Python uses Method Resolution Order (MRO) to resolve this ambiguity.\n",
        "# MRO follows a specific algorithm to determine the order in which base classes are searched.\n",
        "# In the above example, the MRO for class D would be: D -> B -> C -> A.\n",
        "# This means that if we call method() on an instance of D, it will first search in D, then B, then C, and finally A.\n",
        "\n",
        "# Therefore, the output will be \"Method in B\".\n",
        "\n",
        "# How Python Resolves It:\n",
        "# Python uses the C3 linearization algorithm to determine the MRO.\n",
        "# This algorithm ensures that the following conditions are met:\n",
        "#   - Children precede their parents.\n",
        "#   - If a class has multiple parents, the order in which they are listed in the class definition is preserved.\n",
        "#   - If a class has multiple parents that share a common ancestor, the ancestor is visited only once, and the order is determined by the order in which the parents are listed.\n",
        "\n",
        "# This approach ensures that the method resolution is consistent and predictable.\n"
      ],
      "metadata": {
        "colab": {
          "base_uri": "https://localhost:8080/"
        },
        "id": "U5xeQw-N9oW3",
        "outputId": "f24bf0a5-50fd-4bf5-f758-065e280ee3a5"
      },
      "execution_count": null,
      "outputs": [
        {
          "output_type": "stream",
          "name": "stdout",
          "text": [
            "Method from class B\n"
          ]
        }
      ]
    },
    {
      "cell_type": "code",
      "source": [
        " #14 . Write a class method that keeps track of the number of instances created from a class.\n",
        "\n",
        "class MyClass:\n",
        "    instance_count = 0  # Class variable to track instances\n",
        "\n",
        "    def __init__(self):\n",
        "        MyClass.instance_count += 1\n",
        "\n",
        "    @classmethod\n",
        "    def get_instance_count(cls):\n",
        "        return cls.instance_count\n",
        "\n",
        "# Create instances\n",
        "obj1 = MyClass()\n",
        "obj2 = MyClass()\n",
        "obj3 = MyClass()\n",
        "\n",
        "# Get the instance count\n",
        "print(MyClass.get_instance_count())  # Output: 3\n"
      ],
      "metadata": {
        "colab": {
          "base_uri": "https://localhost:8080/"
        },
        "id": "6aVNtuTT9t3a",
        "outputId": "a8bcf30f-24a1-43c7-b25a-0a31001f7c48"
      },
      "execution_count": null,
      "outputs": [
        {
          "output_type": "stream",
          "name": "stdout",
          "text": [
            "3\n"
          ]
        }
      ]
    },
    {
      "cell_type": "code",
      "source": [
        "#15  Implement a static method in a class that checks if a given year is a leap year.\n",
        "\n",
        "#To implement a static method in a class that checks if a given year is a leap year, we can use the @staticmethod decorator.\n",
        "#A static method doesn’t depend on the class or instance, and it doesn’t access any class or instance attributes.\n",
        "\n",
        "#Leap Year Rules:\n",
        "#A year is a leap year if it is divisible by 4.\n",
        "#However, if the year is also divisible by 100, it is not a leap year unless it is divisible by 400.\n",
        "\n",
        "class YearChecker:\n",
        "    @staticmethod\n",
        "    def is_leap_year(year):\n",
        "        # Check if the year is a leap year\n",
        "        if (year % 4 == 0 and year % 100 != 0) or (year % 400 == 0):\n",
        "            return True\n",
        "        return False\n",
        "\n",
        "# Example usage\n",
        "print(YearChecker.is_leap_year(2020))  # Output: True (2020 is a leap year)\n",
        "print(YearChecker.is_leap_year(1900))  # Output: False (1900 is not a leap year)\n",
        "print(YearChecker.is_leap_year(2000))  # Output: True (2000 is a leap year)\n",
        "print(YearChecker.is_leap_year(2023))  # Output: False (2023 is not a leap year)\n"
      ],
      "metadata": {
        "colab": {
          "base_uri": "https://localhost:8080/"
        },
        "id": "PQ9fUJUQ-G9X",
        "outputId": "9f90ad38-e4cc-4578-9e45-8657af606e63"
      },
      "execution_count": null,
      "outputs": [
        {
          "output_type": "stream",
          "name": "stdout",
          "text": [
            "True\n",
            "False\n",
            "True\n",
            "False\n"
          ]
        }
      ]
    }
  ]
}