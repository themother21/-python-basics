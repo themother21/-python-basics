{
 "cells": [
  {
   "cell_type": "code",
   "execution_count": 1,
   "id": "60de10d7-8c42-4b80-b617-4b629cfe143f",
   "metadata": {},
   "outputs": [
    {
     "name": "stdout",
     "output_type": "stream",
     "text": [
      "hello world!\n"
     ]
    }
   ],
   "source": [
    "##1st assignment in python\n",
    "\n",
    "##1.Explain the key features of python  that make it a popular choice of programming.\n",
    "\n",
    "\n",
    "##Ans-1.it is simple and easy to learn.\n",
    "#it is a free software and opensources.\n",
    "#it uses interpreted. It is not the complier. \n",
    "#python has a large and active community of develpors,an extensive standrad library, and third-party packages for various domains.\n",
    "#it is compatible with various programming paradigms,such as procedual, object-oriented and functional programming.\n",
    "\n",
    "\n",
    "print(\"hello world!\")\n"
   ]
  },
  {
   "cell_type": "code",
   "execution_count": 2,
   "id": "c2a77742-7843-4df9-afd1-117eb0f78460",
   "metadata": {},
   "outputs": [
    {
     "name": "stdout",
     "output_type": "stream",
     "text": [
      "5\n",
      "6\n"
     ]
    }
   ],
   "source": [
    "##2.Describe the role of predefined keywords in python and provide examples of how they are used in a program.\n",
    "\n",
    "\n",
    "## Ans-a.Keywords are reserved words in python that have special meanings and cannot be used as identifiers.(variavble names,functions names etc)\n",
    "#Examples of keywords  include if,else,while,for,def,class,import,try,except,return,true,False,None etc\n",
    "#Keywords are case-sensitive and cannot be redefined or overridden within a python program.\n",
    "\n",
    "\n",
    "\n",
    "x=5\n",
    "y=6\n",
    "print(x)\n",
    "print(y)"
   ]
  },
  {
   "cell_type": "code",
   "execution_count": 3,
   "id": "e55a479a-127d-454c-9391-5ebb4267e1eb",
   "metadata": {},
   "outputs": [
    {
     "name": "stdout",
     "output_type": "stream",
     "text": [
      "[1, 2, 3, 4, 5, 6, 7]\n",
      "<class 'list'>\n"
     ]
    }
   ],
   "source": [
    "##3.Compare and contrast mutable and immutable objects in python with examples.\n",
    "\n",
    "\n",
    "##Ans-a.Mutable objects such as lists and dictionaries, can be modified after creation,while immutable objects,such ad tuples and strings, cannot.\n",
    "#Mutability affects how objects are stored and maniulated in memory,impacting performance, memory usage and concurrency in python programs.\n",
    "#In python,objects can be changeable(modifiabel) or unchangeable.\n",
    "\n",
    "\n",
    "x=[1,2,3,4,5,6,7]\n",
    "print(x)\n",
    "print(type(x))"
   ]
  },
  {
   "cell_type": "code",
   "execution_count": 4,
   "id": "364c69d9-ed8f-4b89-bf15-9049d3e5d84c",
   "metadata": {},
   "outputs": [
    {
     "name": "stdout",
     "output_type": "stream",
     "text": [
      "4\n",
      "<class 'int'>\n"
     ]
    }
   ],
   "source": [
    "##4.Discuss different types of operators in python and provide examples of how they are used.\n",
    "\n",
    "\n",
    "##Ans-a.There are mainly six different types of operators used in python.they are\n",
    "         #Arithematic operators(+,-,*,/,)\n",
    "         #Comparison operators(==,!=,<,>)\n",
    "         #Logical operators(and,or,not)\n",
    "         #Assignment operators(=,+=,-=,*=,/=,)\n",
    "         #Bitwise operators\n",
    "         #Identity operators and Membership operators.\n",
    "            \n",
    "            \n",
    "            \n",
    "            \n",
    "            \n",
    "x=4\n",
    "print(x)\n",
    "print(type(x))"
   ]
  },
  {
   "cell_type": "code",
   "execution_count": 5,
   "id": "f24e53a3-1e88-4c13-b9be-ad10011350e2",
   "metadata": {},
   "outputs": [
    {
     "name": "stdout",
     "output_type": "stream",
     "text": [
      "28\n"
     ]
    }
   ],
   "source": [
    "## 5.Explain the concept of type casting in python with examples.\n",
    "\n",
    "\n",
    "## Ans- a.Type casting,also referred to as type conversion,is the process of changing one data type to another in python.\n",
    "#Python provides built-in functions for type casting,such as int(),float(),str(),list(),tuple(),dict() etc\n",
    "#Type casting is often necessary for performing arithmetic operations,data manipulation,and input,out put operations in python programs\n",
    "\n",
    "\n",
    "\n",
    "print(23+5)"
   ]
  },
  {
   "cell_type": "code",
   "execution_count": 6,
   "id": "2e7054ee-63d4-4b79-84f4-18ce362d951c",
   "metadata": {},
   "outputs": [
    {
     "name": "stdout",
     "output_type": "stream",
     "text": [
      "12\n"
     ]
    }
   ],
   "source": [
    "## 6.How do conditional statements work in python? Illustrate with examples.\n",
    "\n",
    "\n",
    "## Ans-1.Conditionals in python are used to execute code based on the evalution of one or more conditions.\n",
    "#Python supports conditional statements such as if,elif( else if), and else to control the flow of execution.\n",
    "#Conditionals  can be nested to handle multiple conditions and control different branches to execution based on the outcome of logical expressions.\n",
    "\n",
    "\n",
    "\n",
    "\n",
    "a=5\n",
    "b=7\n",
    "print(a+b)\n"
   ]
  },
  {
   "cell_type": "code",
   "execution_count": 7,
   "id": "24d7e948-e2e2-4f7e-bd54-7d1ef8e17068",
   "metadata": {},
   "outputs": [
    {
     "name": "stdout",
     "output_type": "stream",
     "text": [
      "{1, 2, 3, 4}\n",
      "<class 'set'>\n"
     ]
    }
   ],
   "source": [
    "## 7.Describe  the different types of loops in python and their cases with examples.\n",
    "\n",
    "\n",
    "\n",
    "## Ans-a.In python ,loops can employed to repeat a sequence of actions or code until a specific condition is fulfilled.\n",
    "#Python offers two primary types of loops:(1) for loops and (2)while loops.\n",
    "#for loops are used for iterating over a sequence of elements, while loops are used for executing code until a specified condition becomes false.\n",
    "\n",
    "\n",
    "\n",
    "\n",
    "a={1,2,3,4}\n",
    "print(a)\n",
    "print(type(a))"
   ]
  },
  {
   "cell_type": "code",
   "execution_count": null,
   "id": "44d65f96-c453-4423-8940-00c333ce58ec",
   "metadata": {},
   "outputs": [],
   "source": []
  }
 ],
 "metadata": {
  "kernelspec": {
   "display_name": "Python 3 (ipykernel)",
   "language": "python",
   "name": "python3"
  },
  "language_info": {
   "codemirror_mode": {
    "name": "ipython",
    "version": 3
   },
   "file_extension": ".py",
   "mimetype": "text/x-python",
   "name": "python",
   "nbconvert_exporter": "python",
   "pygments_lexer": "ipython3",
   "version": "3.10.8"
  }
 },
 "nbformat": 4,
 "nbformat_minor": 5
}
